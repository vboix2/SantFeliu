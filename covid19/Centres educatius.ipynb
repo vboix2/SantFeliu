{
 "cells": [
  {
   "cell_type": "markdown",
   "metadata": {},
   "source": [
    "# Incidència de la covid19 als centres educatius"
   ]
  },
  {
   "cell_type": "code",
   "execution_count": 13,
   "metadata": {},
   "outputs": [],
   "source": [
    "import pandas as pd"
   ]
  },
  {
   "cell_type": "code",
   "execution_count": 14,
   "metadata": {},
   "outputs": [],
   "source": [
    "# Dades covid\n",
    "\n",
    "covid = pd.read_json('https://analisi.transparenciacatalunya.cat/resource/fk8v-uqfv.json?$limit=300000',\n",
    "                    dtype={'alumn_positiu_acum':int,'personal_positiu_acum':int,\n",
    "                           'altres_positiu_acum':int, 'codcentre':str})\n",
    "\n",
    "COLUMNS = ['datageneracio','codcentre','alumn_positiu_acum','personal_positiu_acum',\n",
    "           'altres_positiu_acum','grup_confin']\n",
    "covid = covid.loc[:,COLUMNS].rename(columns={'codcentre':'codi_centre','datageneracio':'data'})\n",
    "\n",
    "covid['data'] = pd.to_datetime(covid['data'], format=\"%Y-%m-%dT%H:%M:%S.%f\")\n",
    "covid['data'] = covid['data'].apply(lambda x: x.strftime(\"%Y-%m-%d\"))"
   ]
  },
  {
   "cell_type": "code",
   "execution_count": 15,
   "metadata": {},
   "outputs": [],
   "source": [
    "# Dades centres\n",
    "\n",
    "centres = pd.read_json('https://analisi.transparenciacatalunya.cat/resource/3u9c-b74b.json',\n",
    "                      dtype={'codi_centre':str})\n",
    "\n",
    "centres = centres.loc[centres.nom_municipi==\"Sant Feliu de Llobregat\", ['codi_centre','nom_municipi']]"
   ]
  },
  {
   "cell_type": "code",
   "execution_count": 16,
   "metadata": {},
   "outputs": [],
   "source": [
    "# Unim dades\n",
    "\n",
    "dades = pd.merge(covid, centres, on=\"codi_centre\")"
   ]
  },
  {
   "cell_type": "code",
   "execution_count": 17,
   "metadata": {},
   "outputs": [],
   "source": [
    "# Agrupem dades\n",
    "\n",
    "dades = dades.groupby(['data'], as_index=False).agg({'alumn_positiu_acum':sum,\n",
    "                                                     'personal_positiu_acum':sum,\n",
    "                                                     'altres_positiu_acum':sum,\n",
    "                                                     'grup_confin':sum})"
   ]
  },
  {
   "cell_type": "code",
   "execution_count": 18,
   "metadata": {},
   "outputs": [],
   "source": [
    "# Calculem els nous positius diaris (desfem els valors acumulats)\n",
    "\n",
    "for i in range(len(dades)-1,0,-1):\n",
    "    dades.loc[i,'alumn_positiu_acum'] = dades.loc[i,'alumn_positiu_acum'] - dades.loc[i-1,'alumn_positiu_acum']\n",
    "    dades.loc[i,'personal_positiu_acum'] = dades.loc[i,'personal_positiu_acum'] - dades.loc[i-1,'personal_positiu_acum']\n",
    "    dades.loc[i,'altres_positiu_acum'] = dades.loc[i,'altres_positiu_acum'] - dades.loc[i-1,'altres_positiu_acum']\n",
    "    dades.loc[i,'grup_confin'] = dades.loc[i,'grup_confin'] - dades.loc[i-1,'grup_confin']\n",
    "\n",
    "dades = dades.rename(columns={'alumn_positiu_acum':'pos_alumn',\n",
    "                              'personal_positiu_acum':'pos_pers',\n",
    "                              'altres_positiu_acum':'pos_altres'})"
   ]
  },
  {
   "cell_type": "code",
   "execution_count": 24,
   "metadata": {},
   "outputs": [
    {
     "data": {
      "text/html": [
       "<div>\n",
       "<style scoped>\n",
       "    .dataframe tbody tr th:only-of-type {\n",
       "        vertical-align: middle;\n",
       "    }\n",
       "\n",
       "    .dataframe tbody tr th {\n",
       "        vertical-align: top;\n",
       "    }\n",
       "\n",
       "    .dataframe thead th {\n",
       "        text-align: right;\n",
       "    }\n",
       "</style>\n",
       "<table border=\"1\" class=\"dataframe\">\n",
       "  <thead>\n",
       "    <tr style=\"text-align: right;\">\n",
       "      <th></th>\n",
       "      <th>data</th>\n",
       "      <th>pos_alumn</th>\n",
       "      <th>pos_pers</th>\n",
       "      <th>pos_altres</th>\n",
       "      <th>grup_confin</th>\n",
       "    </tr>\n",
       "  </thead>\n",
       "  <tbody>\n",
       "    <tr>\n",
       "      <th>0</th>\n",
       "      <td>2020-09-23</td>\n",
       "      <td>5</td>\n",
       "      <td>3</td>\n",
       "      <td>0</td>\n",
       "      <td>0.0</td>\n",
       "    </tr>\n",
       "    <tr>\n",
       "      <th>1</th>\n",
       "      <td>2020-09-24</td>\n",
       "      <td>0</td>\n",
       "      <td>0</td>\n",
       "      <td>0</td>\n",
       "      <td>3.0</td>\n",
       "    </tr>\n",
       "    <tr>\n",
       "      <th>2</th>\n",
       "      <td>2020-09-25</td>\n",
       "      <td>0</td>\n",
       "      <td>0</td>\n",
       "      <td>0</td>\n",
       "      <td>0.0</td>\n",
       "    </tr>\n",
       "    <tr>\n",
       "      <th>3</th>\n",
       "      <td>2020-09-26</td>\n",
       "      <td>0</td>\n",
       "      <td>0</td>\n",
       "      <td>0</td>\n",
       "      <td>0.0</td>\n",
       "    </tr>\n",
       "    <tr>\n",
       "      <th>4</th>\n",
       "      <td>2020-09-28</td>\n",
       "      <td>1</td>\n",
       "      <td>0</td>\n",
       "      <td>0</td>\n",
       "      <td>0.0</td>\n",
       "    </tr>\n",
       "  </tbody>\n",
       "</table>\n",
       "</div>"
      ],
      "text/plain": [
       "         data  pos_alumn  pos_pers  pos_altres  grup_confin\n",
       "0  2020-09-23          5         3           0          0.0\n",
       "1  2020-09-24          0         0           0          3.0\n",
       "2  2020-09-25          0         0           0          0.0\n",
       "3  2020-09-26          0         0           0          0.0\n",
       "4  2020-09-28          1         0           0          0.0"
      ]
     },
     "execution_count": 24,
     "metadata": {},
     "output_type": "execute_result"
    }
   ],
   "source": [
    "dades.head()"
   ]
  }
 ],
 "metadata": {
  "kernelspec": {
   "display_name": "Python 3",
   "language": "python",
   "name": "python3"
  },
  "language_info": {
   "codemirror_mode": {
    "name": "ipython",
    "version": 3
   },
   "file_extension": ".py",
   "mimetype": "text/x-python",
   "name": "python",
   "nbconvert_exporter": "python",
   "pygments_lexer": "ipython3",
   "version": "3.6.8"
  }
 },
 "nbformat": 4,
 "nbformat_minor": 2
}
